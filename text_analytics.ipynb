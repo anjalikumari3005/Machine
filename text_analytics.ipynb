{
  "cells": [
    {
      "cell_type": "code",
      "execution_count": null,
      "metadata": {
        "id": "fzEqc00Ra8rK"
      },
      "outputs": [],
      "source": [
        "import nltk"
      ]
    },
    {
      "cell_type": "code",
      "execution_count": null,
      "metadata": {
        "id": "yzahQWnZa8rP"
      },
      "outputs": [],
      "source": [
        "text = \"\"\"Data science is an interdisciplinary field that uses scientific methods, processes, algorithms and systems to extract knowledge and insights from noisy, structured and unstructured data,[1][2] and apply knowledge and actionable insights from data across a broad range of application domains. Data science is related to data mining, machine learning and big data.\n",
        "\n",
        "Data science is a \"concept to unify statistics, data analysis, informatics, and their related methods\" in order to \"understand and analyze actual phenomena\" with data.[3] It uses techniques and theories drawn from many fields within the context of mathematics, statistics, computer science, information science, and domain knowledge. However, data science is different from computer science and information science. Turing Award winner Jim Gray imagined data science as a \"fourth paradigm\" of science (empirical, theoretical, computational, and now data-driven) and asserted that \"everything about science is changing because of the impact of information technology\" and the data deluge.[4][5]\n",
        "\n",
        "A data scientist is someone who creates programming code, and combines it with statistical knowledge to create insights on business data.[6]\"\"\""
      ]
    },
    {
      "cell_type": "code",
      "execution_count": null,
      "metadata": {
        "id": "ITRylL92a8rQ",
        "outputId": "c803274a-b88c-42bf-dca6-e5c6d62ab5cb"
      },
      "outputs": [
        {
          "data": {
            "text/plain": [
              "'Data science is a \"concept to unify statistics, data analysis, informatics, and their related methods\" in order to \"understand and analyze actual phenomena\" with data.'"
            ]
          },
          "execution_count": 5,
          "metadata": {},
          "output_type": "execute_result"
        }
      ],
      "source": [
        "nltk.sent_tokenize(text)[2]"
      ]
    },
    {
      "cell_type": "code",
      "execution_count": null,
      "metadata": {
        "id": "2-tAwMYza8rS",
        "outputId": "89f26e55-411f-4be1-a79b-3c0023f6385c"
      },
      "outputs": [
        {
          "data": {
            "text/plain": [
              "['Data',\n",
              " 'science',\n",
              " 'is',\n",
              " 'an',\n",
              " 'interdisciplinary',\n",
              " 'field',\n",
              " 'that',\n",
              " 'uses',\n",
              " 'scientific',\n",
              " 'methods',\n",
              " ',',\n",
              " 'processes',\n",
              " ',',\n",
              " 'algorithms',\n",
              " 'and',\n",
              " 'systems',\n",
              " 'to',\n",
              " 'extract',\n",
              " 'knowledge',\n",
              " 'and',\n",
              " 'insights',\n",
              " 'from',\n",
              " 'noisy',\n",
              " ',',\n",
              " 'structured',\n",
              " 'and',\n",
              " 'unstructured',\n",
              " 'data',\n",
              " ',',\n",
              " '[',\n",
              " '1',\n",
              " ']',\n",
              " '[',\n",
              " '2',\n",
              " ']',\n",
              " 'and',\n",
              " 'apply',\n",
              " 'knowledge',\n",
              " 'and',\n",
              " 'actionable',\n",
              " 'insights',\n",
              " 'from',\n",
              " 'data',\n",
              " 'across',\n",
              " 'a',\n",
              " 'broad',\n",
              " 'range',\n",
              " 'of',\n",
              " 'application',\n",
              " 'domains',\n",
              " '.',\n",
              " 'Data',\n",
              " 'science',\n",
              " 'is',\n",
              " 'related',\n",
              " 'to',\n",
              " 'data',\n",
              " 'mining',\n",
              " ',',\n",
              " 'machine',\n",
              " 'learning',\n",
              " 'and',\n",
              " 'big',\n",
              " 'data',\n",
              " '.',\n",
              " 'Data',\n",
              " 'science',\n",
              " 'is',\n",
              " 'a',\n",
              " '``',\n",
              " 'concept',\n",
              " 'to',\n",
              " 'unify',\n",
              " 'statistics',\n",
              " ',',\n",
              " 'data',\n",
              " 'analysis',\n",
              " ',',\n",
              " 'informatics',\n",
              " ',',\n",
              " 'and',\n",
              " 'their',\n",
              " 'related',\n",
              " 'methods',\n",
              " \"''\",\n",
              " 'in',\n",
              " 'order',\n",
              " 'to',\n",
              " '``',\n",
              " 'understand',\n",
              " 'and',\n",
              " 'analyze',\n",
              " 'actual',\n",
              " 'phenomena',\n",
              " \"''\",\n",
              " 'with',\n",
              " 'data',\n",
              " '.',\n",
              " '[',\n",
              " '3',\n",
              " ']',\n",
              " 'It',\n",
              " 'uses',\n",
              " 'techniques',\n",
              " 'and',\n",
              " 'theories',\n",
              " 'drawn',\n",
              " 'from',\n",
              " 'many',\n",
              " 'fields',\n",
              " 'within',\n",
              " 'the',\n",
              " 'context',\n",
              " 'of',\n",
              " 'mathematics',\n",
              " ',',\n",
              " 'statistics',\n",
              " ',',\n",
              " 'computer',\n",
              " 'science',\n",
              " ',',\n",
              " 'information',\n",
              " 'science',\n",
              " ',',\n",
              " 'and',\n",
              " 'domain',\n",
              " 'knowledge',\n",
              " '.',\n",
              " 'However',\n",
              " ',',\n",
              " 'data',\n",
              " 'science',\n",
              " 'is',\n",
              " 'different',\n",
              " 'from',\n",
              " 'computer',\n",
              " 'science',\n",
              " 'and',\n",
              " 'information',\n",
              " 'science',\n",
              " '.',\n",
              " 'Turing',\n",
              " 'Award',\n",
              " 'winner',\n",
              " 'Jim',\n",
              " 'Gray',\n",
              " 'imagined',\n",
              " 'data',\n",
              " 'science',\n",
              " 'as',\n",
              " 'a',\n",
              " '``',\n",
              " 'fourth',\n",
              " 'paradigm',\n",
              " \"''\",\n",
              " 'of',\n",
              " 'science',\n",
              " '(',\n",
              " 'empirical',\n",
              " ',',\n",
              " 'theoretical',\n",
              " ',',\n",
              " 'computational',\n",
              " ',',\n",
              " 'and',\n",
              " 'now',\n",
              " 'data-driven',\n",
              " ')',\n",
              " 'and',\n",
              " 'asserted',\n",
              " 'that',\n",
              " '``',\n",
              " 'everything',\n",
              " 'about',\n",
              " 'science',\n",
              " 'is',\n",
              " 'changing',\n",
              " 'because',\n",
              " 'of',\n",
              " 'the',\n",
              " 'impact',\n",
              " 'of',\n",
              " 'information',\n",
              " 'technology',\n",
              " \"''\",\n",
              " 'and',\n",
              " 'the',\n",
              " 'data',\n",
              " 'deluge',\n",
              " '.',\n",
              " '[',\n",
              " '4',\n",
              " ']',\n",
              " '[',\n",
              " '5',\n",
              " ']',\n",
              " 'A',\n",
              " 'data',\n",
              " 'scientist',\n",
              " 'is',\n",
              " 'someone',\n",
              " 'who',\n",
              " 'creates',\n",
              " 'programming',\n",
              " 'code',\n",
              " ',',\n",
              " 'and',\n",
              " 'combines',\n",
              " 'it',\n",
              " 'with',\n",
              " 'statistical',\n",
              " 'knowledge',\n",
              " 'to',\n",
              " 'create',\n",
              " 'insights',\n",
              " 'on',\n",
              " 'business',\n",
              " 'data',\n",
              " '.',\n",
              " '[',\n",
              " '6',\n",
              " ']']"
            ]
          },
          "execution_count": 6,
          "metadata": {},
          "output_type": "execute_result"
        }
      ],
      "source": [
        "nltk.word_tokenize(text)"
      ]
    },
    {
      "cell_type": "code",
      "execution_count": null,
      "metadata": {
        "id": "kLbCw9EIa8rS",
        "outputId": "7b39e1ec-3526-429d-f64d-dd60f7199c7e"
      },
      "outputs": [
        {
          "name": "stderr",
          "output_type": "stream",
          "text": [
            "[nltk_data] Downloading package punkt to\n",
            "[nltk_data]     C:\\Users\\win10\\AppData\\Roaming\\nltk_data...\n",
            "[nltk_data]   Package punkt is already up-to-date!\n"
          ]
        },
        {
          "data": {
            "text/plain": [
              "True"
            ]
          },
          "execution_count": 7,
          "metadata": {},
          "output_type": "execute_result"
        }
      ],
      "source": [
        "nltk.download('punkt')\n"
      ]
    },
    {
      "cell_type": "code",
      "execution_count": null,
      "metadata": {
        "id": "RdIAy4Qza8rT"
      },
      "outputs": [],
      "source": [
        "text1 = \"we are trying to test nltk lib , in ineuron class \""
      ]
    },
    {
      "cell_type": "code",
      "execution_count": null,
      "metadata": {
        "id": "qxX-fACka8rV",
        "outputId": "be79d5db-d678-424b-da42-f935bef39768"
      },
      "outputs": [
        {
          "data": {
            "text/plain": [
              "[('we', 'PRP'),\n",
              " ('are', 'VBP'),\n",
              " ('trying', 'VBG'),\n",
              " ('to', 'TO'),\n",
              " ('test', 'VB'),\n",
              " ('nltk', 'JJ'),\n",
              " ('lib', 'NN'),\n",
              " (',', ','),\n",
              " ('in', 'IN'),\n",
              " ('ineuron', 'NN'),\n",
              " ('class', 'NN')]"
            ]
          },
          "execution_count": 10,
          "metadata": {},
          "output_type": "execute_result"
        }
      ],
      "source": [
        "nltk.pos_tag(nltk.word_tokenize(text1))"
      ]
    },
    {
      "cell_type": "code",
      "execution_count": null,
      "metadata": {
        "id": "baua_VYHa8rY"
      },
      "outputs": [],
      "source": [
        "from nltk.corpus import stopwords\n",
        "stop_word = stopwords.words('english')"
      ]
    },
    {
      "cell_type": "code",
      "execution_count": null,
      "metadata": {
        "id": "uwurELeBa8ra"
      },
      "outputs": [],
      "source": [
        "import string \n",
        "punch = string.punctuation"
      ]
    },
    {
      "cell_type": "code",
      "execution_count": null,
      "metadata": {
        "id": "MF0aMgZ2a8rc"
      },
      "outputs": [],
      "source": [
        "text = \"\"\"Data science is an interdisciplinary field that uses scientific methods, processes, algorithms and systems to extract knowledge and insights from noisy, structured and unstructured data,[1][2] and apply knowledge and actionable insights from data across a broad range of application domains. Data science is related to data mining, machine learning and big data.\n",
        "\n",
        "Data science is a \"concept to unify statistics, data analysis, informatics, and their related methods\" in order to \"understand and analyze actual phenomena\" with data.[3] It uses techniques and theories drawn from many fields within the context of mathematics, statistics, computer science, information science, and domain knowledge. However, data science is different from computer science and information science. Turing Award winner Jim Gray imagined data science as a \"fourth paradigm\" of science (empirical, theoretical, computational, and now data-driven) and asserted that \"everything about science is changing because of the impact of information technology\" and the data deluge.[4][5]\n",
        "\n",
        "A data scientist is someone who creates programming code, and combines it with statistical knowledge to create insights on business data.[6]\"\"\""
      ]
    },
    {
      "cell_type": "code",
      "execution_count": null,
      "metadata": {
        "id": "1Vt8DwO_a8rd"
      },
      "outputs": [],
      "source": [
        "l = []\n",
        "for word in nltk.word_tokenize(text):\n",
        "    if word not in punch:\n",
        "        if word not in stop_word :\n",
        "            l.append(word)\n",
        "            \n",
        "    "
      ]
    },
    {
      "cell_type": "code",
      "execution_count": null,
      "metadata": {
        "id": "CUT6tYTea8re",
        "outputId": "58dcfe5a-c024-427a-dfd8-574a6289e427"
      },
      "outputs": [
        {
          "data": {
            "text/plain": [
              "['Data',\n",
              " 'science',\n",
              " 'interdisciplinary',\n",
              " 'field',\n",
              " 'uses',\n",
              " 'scientific',\n",
              " 'methods',\n",
              " 'processes',\n",
              " 'algorithms',\n",
              " 'systems',\n",
              " 'extract',\n",
              " 'knowledge',\n",
              " 'insights',\n",
              " 'noisy',\n",
              " 'structured',\n",
              " 'unstructured',\n",
              " 'data',\n",
              " '1',\n",
              " '2',\n",
              " 'apply',\n",
              " 'knowledge',\n",
              " 'actionable',\n",
              " 'insights',\n",
              " 'data',\n",
              " 'across',\n",
              " 'broad',\n",
              " 'range',\n",
              " 'application',\n",
              " 'domains',\n",
              " 'Data',\n",
              " 'science',\n",
              " 'related',\n",
              " 'data',\n",
              " 'mining',\n",
              " 'machine',\n",
              " 'learning',\n",
              " 'big',\n",
              " 'data',\n",
              " 'Data',\n",
              " 'science',\n",
              " '``',\n",
              " 'concept',\n",
              " 'unify',\n",
              " 'statistics',\n",
              " 'data',\n",
              " 'analysis',\n",
              " 'informatics',\n",
              " 'related',\n",
              " 'methods',\n",
              " \"''\",\n",
              " 'order',\n",
              " '``',\n",
              " 'understand',\n",
              " 'analyze',\n",
              " 'actual',\n",
              " 'phenomena',\n",
              " \"''\",\n",
              " 'data',\n",
              " '3',\n",
              " 'It',\n",
              " 'uses',\n",
              " 'techniques',\n",
              " 'theories',\n",
              " 'drawn',\n",
              " 'many',\n",
              " 'fields',\n",
              " 'within',\n",
              " 'context',\n",
              " 'mathematics',\n",
              " 'statistics',\n",
              " 'computer',\n",
              " 'science',\n",
              " 'information',\n",
              " 'science',\n",
              " 'domain',\n",
              " 'knowledge',\n",
              " 'However',\n",
              " 'data',\n",
              " 'science',\n",
              " 'different',\n",
              " 'computer',\n",
              " 'science',\n",
              " 'information',\n",
              " 'science',\n",
              " 'Turing',\n",
              " 'Award',\n",
              " 'winner',\n",
              " 'Jim',\n",
              " 'Gray',\n",
              " 'imagined',\n",
              " 'data',\n",
              " 'science',\n",
              " '``',\n",
              " 'fourth',\n",
              " 'paradigm',\n",
              " \"''\",\n",
              " 'science',\n",
              " 'empirical',\n",
              " 'theoretical',\n",
              " 'computational',\n",
              " 'data-driven',\n",
              " 'asserted',\n",
              " '``',\n",
              " 'everything',\n",
              " 'science',\n",
              " 'changing',\n",
              " 'impact',\n",
              " 'information',\n",
              " 'technology',\n",
              " \"''\",\n",
              " 'data',\n",
              " 'deluge',\n",
              " '4',\n",
              " '5',\n",
              " 'A',\n",
              " 'data',\n",
              " 'scientist',\n",
              " 'someone',\n",
              " 'creates',\n",
              " 'programming',\n",
              " 'code',\n",
              " 'combines',\n",
              " 'statistical',\n",
              " 'knowledge',\n",
              " 'create',\n",
              " 'insights',\n",
              " 'business',\n",
              " 'data',\n",
              " '6']"
            ]
          },
          "execution_count": 19,
          "metadata": {},
          "output_type": "execute_result"
        }
      ],
      "source": [
        "l"
      ]
    },
    {
      "cell_type": "code",
      "execution_count": null,
      "metadata": {
        "id": "ps3VZFiQa8rf",
        "outputId": "4c70c4ce-f3c7-4970-ca67-2e5fc5e9c569"
      },
      "outputs": [
        {
          "data": {
            "text/plain": [
              "[('Data', 'NNP'),\n",
              " ('science', 'NN'),\n",
              " ('interdisciplinary', 'JJ'),\n",
              " ('field', 'NN'),\n",
              " ('uses', 'VBZ'),\n",
              " ('scientific', 'JJ'),\n",
              " ('methods', 'NNS'),\n",
              " ('processes', 'VBZ'),\n",
              " ('algorithms', 'JJ'),\n",
              " ('systems', 'NNS'),\n",
              " ('extract', 'JJ'),\n",
              " ('knowledge', 'JJ'),\n",
              " ('insights', 'NNS'),\n",
              " ('noisy', 'RB'),\n",
              " ('structured', 'VBD'),\n",
              " ('unstructured', 'JJ'),\n",
              " ('data', 'NNS'),\n",
              " ('1', 'CD'),\n",
              " ('2', 'CD'),\n",
              " ('apply', 'NN'),\n",
              " ('knowledge', 'NN'),\n",
              " ('actionable', 'JJ'),\n",
              " ('insights', 'NNS'),\n",
              " ('data', 'NNS'),\n",
              " ('across', 'IN'),\n",
              " ('broad', 'JJ'),\n",
              " ('range', 'NN'),\n",
              " ('application', 'NN'),\n",
              " ('domains', 'VBZ'),\n",
              " ('Data', 'NNP'),\n",
              " ('science', 'NN'),\n",
              " ('related', 'VBN'),\n",
              " ('data', 'NNS'),\n",
              " ('mining', 'NN'),\n",
              " ('machine', 'NN'),\n",
              " ('learning', 'VBG'),\n",
              " ('big', 'JJ'),\n",
              " ('data', 'NNS'),\n",
              " ('Data', 'NNP'),\n",
              " ('science', 'NN'),\n",
              " ('``', '``'),\n",
              " ('concept', 'JJ'),\n",
              " ('unify', 'JJ'),\n",
              " ('statistics', 'NNS'),\n",
              " ('data', 'NNS'),\n",
              " ('analysis', 'NN'),\n",
              " ('informatics', 'NNS'),\n",
              " ('related', 'JJ'),\n",
              " ('methods', 'NNS'),\n",
              " (\"''\", \"''\"),\n",
              " ('order', 'NN'),\n",
              " ('``', '``'),\n",
              " ('understand', 'JJ'),\n",
              " ('analyze', 'NN'),\n",
              " ('actual', 'JJ'),\n",
              " ('phenomena', 'NN'),\n",
              " (\"''\", \"''\"),\n",
              " ('data', 'NNS'),\n",
              " ('3', 'CD'),\n",
              " ('It', 'PRP'),\n",
              " ('uses', 'VBZ'),\n",
              " ('techniques', 'NNS'),\n",
              " ('theories', 'NNS'),\n",
              " ('drawn', 'VBP'),\n",
              " ('many', 'JJ'),\n",
              " ('fields', 'NNS'),\n",
              " ('within', 'IN'),\n",
              " ('context', 'NN'),\n",
              " ('mathematics', 'NNS'),\n",
              " ('statistics', 'NNS'),\n",
              " ('computer', 'NN'),\n",
              " ('science', 'NN'),\n",
              " ('information', 'NN'),\n",
              " ('science', 'NN'),\n",
              " ('domain', 'NN'),\n",
              " ('knowledge', 'NN'),\n",
              " ('However', 'RB'),\n",
              " ('data', 'VBZ'),\n",
              " ('science', 'NN'),\n",
              " ('different', 'JJ'),\n",
              " ('computer', 'NN'),\n",
              " ('science', 'NN'),\n",
              " ('information', 'NN'),\n",
              " ('science', 'NN'),\n",
              " ('Turing', 'NNP'),\n",
              " ('Award', 'NNP'),\n",
              " ('winner', 'NN'),\n",
              " ('Jim', 'NNP'),\n",
              " ('Gray', 'NNP'),\n",
              " ('imagined', 'VBD'),\n",
              " ('data', 'NNS'),\n",
              " ('science', 'NN'),\n",
              " ('``', '``'),\n",
              " ('fourth', 'JJ'),\n",
              " ('paradigm', 'NN'),\n",
              " (\"''\", \"''\"),\n",
              " ('science', 'NN'),\n",
              " ('empirical', 'JJ'),\n",
              " ('theoretical', 'JJ'),\n",
              " ('computational', 'JJ'),\n",
              " ('data-driven', 'NN'),\n",
              " ('asserted', 'VBD'),\n",
              " ('``', '``'),\n",
              " ('everything', 'NN'),\n",
              " ('science', 'NN'),\n",
              " ('changing', 'VBG'),\n",
              " ('impact', 'JJ'),\n",
              " ('information', 'NN'),\n",
              " ('technology', 'NN'),\n",
              " (\"''\", \"''\"),\n",
              " ('data', 'NNS'),\n",
              " ('deluge', 'VBD'),\n",
              " ('4', 'CD'),\n",
              " ('5', 'CD'),\n",
              " ('A', 'NNP'),\n",
              " ('data', 'NNS'),\n",
              " ('scientist', 'NN'),\n",
              " ('someone', 'NN'),\n",
              " ('creates', 'VBZ'),\n",
              " ('programming', 'VBG'),\n",
              " ('code', 'NN'),\n",
              " ('combines', 'NNS'),\n",
              " ('statistical', 'JJ'),\n",
              " ('knowledge', 'NN'),\n",
              " ('create', 'NN'),\n",
              " ('insights', 'NNS'),\n",
              " ('business', 'NN'),\n",
              " ('data', 'NNS'),\n",
              " ('6', 'CD')]"
            ]
          },
          "execution_count": 20,
          "metadata": {},
          "output_type": "execute_result"
        }
      ],
      "source": [
        "nltk.pos_tag(l)"
      ]
    },
    {
      "cell_type": "code",
      "execution_count": null,
      "metadata": {
        "id": "3pPBYaFda8rg"
      },
      "outputs": [],
      "source": [
        "from nltk.stem import PorterStemmer\n",
        "from nltk.stem import LancasterStemmer , SnowballStemmer"
      ]
    },
    {
      "cell_type": "code",
      "execution_count": null,
      "metadata": {
        "id": "FB0a60a6a8rg"
      },
      "outputs": [],
      "source": [
        "porter = PorterStemmer()\n",
        "lancas = LancasterStemmer()\n",
        "snow = SnowballStemmer('english')"
      ]
    },
    {
      "cell_type": "code",
      "execution_count": null,
      "metadata": {
        "id": "KMIIlzMaa8rh",
        "outputId": "4903a796-6f98-4ab6-973c-4bb530662e82"
      },
      "outputs": [
        {
          "data": {
            "text/plain": [
              "'run'"
            ]
          },
          "execution_count": 27,
          "metadata": {},
          "output_type": "execute_result"
        }
      ],
      "source": [
        "porter.stem(\"running\")"
      ]
    },
    {
      "cell_type": "code",
      "execution_count": null,
      "metadata": {
        "id": "6saPzYG2a8rh",
        "outputId": "e2e19e64-47ca-4354-a16e-003babdea07b"
      },
      "outputs": [
        {
          "data": {
            "text/plain": [
              "'hobbi'"
            ]
          },
          "execution_count": 28,
          "metadata": {},
          "output_type": "execute_result"
        }
      ],
      "source": [
        "porter.stem('hobbies')"
      ]
    },
    {
      "cell_type": "code",
      "execution_count": null,
      "metadata": {
        "id": "Lx93hVnga8ri",
        "outputId": "a493e444-d8b2-4583-b005-a1fb188200e0"
      },
      "outputs": [
        {
          "data": {
            "text/plain": [
              "'hobbi'"
            ]
          },
          "execution_count": 29,
          "metadata": {},
          "output_type": "execute_result"
        }
      ],
      "source": [
        "porter.stem('hobbi')"
      ]
    },
    {
      "cell_type": "code",
      "execution_count": null,
      "metadata": {
        "id": "orGSS7vEa8ri",
        "outputId": "04f3907a-a00a-462b-ddc0-7e918d339abc"
      },
      "outputs": [
        {
          "data": {
            "text/plain": [
              "'sung'"
            ]
          },
          "execution_count": 30,
          "metadata": {},
          "output_type": "execute_result"
        }
      ],
      "source": [
        "porter.stem('sung')"
      ]
    },
    {
      "cell_type": "code",
      "execution_count": null,
      "metadata": {
        "id": "vOcgf-G-a8rj",
        "outputId": "4bedb728-ea3f-4f8c-91a7-b6e64860f661"
      },
      "outputs": [
        {
          "data": {
            "text/plain": [
              "'comput'"
            ]
          },
          "execution_count": 31,
          "metadata": {},
          "output_type": "execute_result"
        }
      ],
      "source": [
        "porter.stem('computer')"
      ]
    },
    {
      "cell_type": "code",
      "execution_count": null,
      "metadata": {
        "id": "OB27Wzvna8rj",
        "outputId": "557d65eb-6b8f-4494-e4e3-b138f0515272"
      },
      "outputs": [
        {
          "data": {
            "text/plain": [
              "'continu'"
            ]
          },
          "execution_count": 32,
          "metadata": {},
          "output_type": "execute_result"
        }
      ],
      "source": [
        "porter.stem('continuous')"
      ]
    },
    {
      "cell_type": "code",
      "execution_count": null,
      "metadata": {
        "id": "pK2sh-Mga8rj",
        "outputId": "330677f4-77d1-4338-a8a4-3ebc31581993"
      },
      "outputs": [
        {
          "data": {
            "text/plain": [
              "'sudhanshu'"
            ]
          },
          "execution_count": 33,
          "metadata": {},
          "output_type": "execute_result"
        }
      ],
      "source": [
        "porter.stem('sudhanshu')"
      ]
    },
    {
      "cell_type": "code",
      "execution_count": null,
      "metadata": {
        "id": "so62KPgaa8rk",
        "outputId": "dae84d99-8777-420e-b269-6686122cd5bc"
      },
      "outputs": [
        {
          "data": {
            "text/plain": [
              "'comput'"
            ]
          },
          "execution_count": 34,
          "metadata": {},
          "output_type": "execute_result"
        }
      ],
      "source": [
        "lancas.stem(\"computer\")"
      ]
    },
    {
      "cell_type": "code",
      "execution_count": null,
      "metadata": {
        "id": "Rywu_mpGa8rk",
        "outputId": "ac3ac32b-f967-43ec-e8e2-d4026e6462ae"
      },
      "outputs": [
        {
          "data": {
            "text/plain": [
              "'run'"
            ]
          },
          "execution_count": 35,
          "metadata": {},
          "output_type": "execute_result"
        }
      ],
      "source": [
        "snow.stem(\"running\")"
      ]
    },
    {
      "cell_type": "code",
      "execution_count": null,
      "metadata": {
        "id": "acQzqPQca8rk",
        "outputId": "f04a50ff-adb2-4908-ec7b-fa4588070b13"
      },
      "outputs": [
        {
          "data": {
            "text/plain": [
              "'run'"
            ]
          },
          "execution_count": 36,
          "metadata": {},
          "output_type": "execute_result"
        }
      ],
      "source": [
        "snow.stem(\"runs\")"
      ]
    },
    {
      "cell_type": "code",
      "execution_count": null,
      "metadata": {
        "id": "rvN2xIEua8rl",
        "outputId": "3b8f4c1d-7f2b-48ae-b880-5c36e61ec09d"
      },
      "outputs": [
        {
          "data": {
            "text/plain": [
              "'run'"
            ]
          },
          "execution_count": 37,
          "metadata": {},
          "output_type": "execute_result"
        }
      ],
      "source": [
        "snow.stem(\"run\")"
      ]
    },
    {
      "cell_type": "code",
      "execution_count": null,
      "metadata": {
        "id": "znYlRzKda8rl",
        "outputId": "aba98d9a-3ddf-48a2-9b4c-4b026ebdc892"
      },
      "outputs": [
        {
          "data": {
            "text/plain": [
              "'sudhanshu'"
            ]
          },
          "execution_count": 38,
          "metadata": {},
          "output_type": "execute_result"
        }
      ],
      "source": [
        "snow.stem('sudhanshuing')"
      ]
    },
    {
      "cell_type": "code",
      "execution_count": null,
      "metadata": {
        "id": "9DuUQypZa8rl",
        "outputId": "33dacebe-f317-4d2d-c89c-665a0bdfb3bd"
      },
      "outputs": [
        {
          "data": {
            "text/plain": [
              "'running'"
            ]
          },
          "execution_count": 39,
          "metadata": {},
          "output_type": "execute_result"
        }
      ],
      "source": [
        "from nltk.stem import WordNetLemmatizer\n",
        "lemma = WordNetLemmatizer()\n",
        "lemma.lemmatize(\"running\")"
      ]
    },
    {
      "cell_type": "code",
      "execution_count": null,
      "metadata": {
        "id": "tUibP_fua8rm",
        "outputId": "725dc00d-fa48-4513-c852-78ffb7228db9"
      },
      "outputs": [
        {
          "data": {
            "text/plain": [
              "'run'"
            ]
          },
          "execution_count": 40,
          "metadata": {},
          "output_type": "execute_result"
        }
      ],
      "source": [
        "lemma.lemmatize(\"runs\")"
      ]
    },
    {
      "cell_type": "code",
      "execution_count": null,
      "metadata": {
        "id": "rznh-TpDa8rm",
        "outputId": "150c2ae4-522f-4fa8-be56-8fa854d3c5d9"
      },
      "outputs": [
        {
          "data": {
            "text/plain": [
              "'run'"
            ]
          },
          "execution_count": 41,
          "metadata": {},
          "output_type": "execute_result"
        }
      ],
      "source": [
        "lemma.lemmatize(\"run\")"
      ]
    },
    {
      "cell_type": "code",
      "execution_count": null,
      "metadata": {
        "id": "hs1Wd7o8a8rm",
        "outputId": "23e334d2-2550-4446-a1a6-45a3b278da2f"
      },
      "outputs": [
        {
          "data": {
            "text/plain": [
              "'go'"
            ]
          },
          "execution_count": 49,
          "metadata": {},
          "output_type": "execute_result"
        }
      ],
      "source": [
        "lemma.lemmatize(\"went\" , pos = 'v')"
      ]
    },
    {
      "cell_type": "code",
      "execution_count": null,
      "metadata": {
        "id": "Qqtx36l7a8rm",
        "outputId": "2ddecbe8-a271-49e7-e77e-a2975051640d"
      },
      "outputs": [
        {
          "data": {
            "text/plain": [
              "'go'"
            ]
          },
          "execution_count": 47,
          "metadata": {},
          "output_type": "execute_result"
        }
      ],
      "source": [
        "lemma.lemmatize(\"gone\" , pos = 'v')"
      ]
    },
    {
      "cell_type": "code",
      "execution_count": null,
      "metadata": {
        "id": "7bzf0id0a8rn",
        "outputId": "15492a30-a230-4d36-cb53-9014f8383589"
      },
      "outputs": [
        {
          "data": {
            "text/plain": [
              "'go'"
            ]
          },
          "execution_count": 44,
          "metadata": {},
          "output_type": "execute_result"
        }
      ],
      "source": [
        "lemma.lemmatize(\"go\")"
      ]
    },
    {
      "cell_type": "code",
      "execution_count": null,
      "metadata": {
        "id": "FstjPg_Ka8rn"
      },
      "outputs": [],
      "source": [
        "\"\"\"A platform for good, honest and QUALITY teaching by professionals.\n",
        "Earlier I was worried from i should learn the Python, Data Science and Machine Learning but the way iNeuron teaches is far better than those platform who ask high fees.\n",
        "I got the quality teaching with so many topics in just a small amount.\n",
        "The best part is the skype support team. Whether it is day or night....they have answered my each and every query. Special thanks to\n",
        "@Rohan Bagulwar  &\n",
        "@Aditya Bhatt\n",
        "for resolving my queries in a right way.\n",
        "When you unable to get via text in skype they arrange the google meet.\n",
        "\n",
        "Thanks iNeuron for such a wonderful quality teaching\n",
        "\"\"\"\n",
        " - p \n",
        "\n",
        "\"\"\"My review after spending almost 2 months with ineuron for MLDL program. I have visited many platforms where we can learn data science but the biggest problem you will face would be they all have not a good help and support system. My experience with ineuron is really great. The amazing thing is that all the staff is quite cooperative and supportive. Their support system to help students' queries regarding the study and career change guidance are really wonderful. They provide doubt class session once in a week, on weekdays basis  they provide 2 hours dedicated session specially for any query. and apart from that their skype system works almost 16 hours a day. Moreover, still you think you have have a problem, you can contact on their emails. Guys! This ineuron organisation is really great for us who want to make a transition in data science field. Their fee is quite low that anyone can pay without much stress, it's  just 3500/- rupees for entire program. otherwise, you will see the minimum fee on other platforms are in the range of  50k to 250k minimum. Without any doubt, You people can enroll for any program. you are on a right platform. So, just go for it. Thanks guys for reading my review. All the best for your future journey and career!\n",
        "\"\"\" - p \n",
        "\"\"\"\"I joined MLDL class of ineuron from last month ,Class is taking by Mr.Sudhanshu Kumar which is really good for the beginners to understand the concept in details\n",
        "Thanks for the wonderful teaching.\"\"\"\" - N"
      ]
    }
  ],
  "metadata": {
    "kernelspec": {
      "display_name": "Python 3",
      "language": "python",
      "name": "python3"
    },
    "language_info": {
      "codemirror_mode": {
        "name": "ipython",
        "version": 3
      },
      "file_extension": ".py",
      "mimetype": "text/x-python",
      "name": "python",
      "nbconvert_exporter": "python",
      "pygments_lexer": "ipython3",
      "version": "3.8.5"
    },
    "colab": {
      "name": "text analytics.ipynb",
      "provenance": []
    }
  },
  "nbformat": 4,
  "nbformat_minor": 0
}